{
 "cells": [
  {
   "cell_type": "markdown",
   "metadata": {},
   "source": [
    "# Deep Learning : McCulloch-Pitts Neuron Model"
   ]
  },
  {
   "cell_type": "markdown",
   "metadata": {},
   "source": [
    "## 1. Importing Required Libraries"
   ]
  },
  {
   "cell_type": "code",
   "execution_count": null,
   "metadata": {
    "ExecuteTime": {
     "end_time": "2020-04-14T11:17:57.209021Z",
     "start_time": "2020-04-14T11:17:56.842995Z"
    }
   },
   "outputs": [],
   "source": [
    "import numpy as np              # for mathematical computation\n",
    "import pandas as pd             # for data handiling\n",
    "import matplotlib.pyplot as plt # for data visualization\n",
    "from random import randint      # for generating random numbers\n",
    "import sklearn.datasets         # to import the breast_cancer dataset\n",
    "from sklearn.model_selection import train_test_split  # splits the data in two(train and test) parts automatically\n",
    "from sklearn.metrics import accuracy_score            # for calculating the accuracy"
   ]
  },
  {
   "cell_type": "markdown",
   "metadata": {},
   "source": [
    "## 2. Loading DataSet"
   ]
  },
  {
   "cell_type": "code",
   "execution_count": null,
   "metadata": {
    "ExecuteTime": {
     "end_time": "2020-04-14T11:17:57.340668Z",
     "start_time": "2020-04-14T11:17:57.214004Z"
    }
   },
   "outputs": [],
   "source": [
    "#load the data into a variable and convert it to a dataframe using pandas DataFrame lib.\n",
    "#we do it because the data whne loaded in in raw form which is hard to visualiza and manipulate\n",
    "breast_cancer = sklearn.datasets.load_breast_cancer()\n",
    "data = pd.DataFrame(breast_cancer.data, columns=breast_cancer.feature_names)\n",
    "data['class'] = breast_cancer.target\n",
    "data.head()   # shows the first 5 rows of the data"
   ]
  },
  {
   "cell_type": "code",
   "execution_count": null,
   "metadata": {
    "ExecuteTime": {
     "end_time": "2020-04-14T11:17:57.757549Z",
     "start_time": "2020-04-14T11:17:57.348645Z"
    }
   },
   "outputs": [],
   "source": [
    "# Describe the data in general\n",
    "data.describe()"
   ]
  },
  {
   "cell_type": "code",
   "execution_count": null,
   "metadata": {
    "ExecuteTime": {
     "end_time": "2020-04-14T11:17:57.784483Z",
     "start_time": "2020-04-14T11:17:57.762537Z"
    }
   },
   "outputs": [],
   "source": [
    "# what are the actual counts of each of the categories in data.\n",
    "data['class'].value_counts()"
   ]
  },
  {
   "cell_type": "code",
   "execution_count": null,
   "metadata": {
    "ExecuteTime": {
     "end_time": "2020-04-14T11:17:57.887203Z",
     "start_time": "2020-04-14T11:17:57.790464Z"
    }
   },
   "outputs": [],
   "source": [
    "# what are the actual name of the categories we want to predict.\n",
    "breast_cancer.target_names"
   ]
  },
  {
   "cell_type": "markdown",
   "metadata": {},
   "source": [
    "## 3. Train test split"
   ]
  },
  {
   "cell_type": "code",
   "execution_count": null,
   "metadata": {
    "ExecuteTime": {
     "end_time": "2020-04-14T11:17:58.113797Z",
     "start_time": "2020-04-14T11:17:57.893187Z"
    }
   },
   "outputs": [],
   "source": [
    "# first drop the class col and assign the remaining data to X variable which is input to the model.\n",
    "# we drop the class col because it the ouput and is assigned to Y variable.\n",
    "X = data.drop('class', axis=1)\n",
    "Y = data['class']"
   ]
  },
  {
   "cell_type": "code",
   "execution_count": null,
   "metadata": {
    "ExecuteTime": {
     "end_time": "2020-04-14T11:17:58.234478Z",
     "start_time": "2020-04-14T11:17:58.121813Z"
    }
   },
   "outputs": [],
   "source": [
    "# look at the type of X & Y\n",
    "print(\"type of X:\",type(X))\n",
    "print(\"type of Y:\",type(Y))"
   ]
  },
  {
   "cell_type": "code",
   "execution_count": null,
   "metadata": {
    "ExecuteTime": {
     "end_time": "2020-04-14T11:17:58.321245Z",
     "start_time": "2020-04-14T11:17:58.252429Z"
    }
   },
   "outputs": [],
   "source": [
    "# prints the size (row,col) of the input and output\n",
    "print(X.shape, Y.shape)"
   ]
  },
  {
   "cell_type": "code",
   "execution_count": null,
   "metadata": {
    "ExecuteTime": {
     "end_time": "2020-04-14T11:17:58.489299Z",
     "start_time": "2020-04-14T11:17:58.333213Z"
    }
   },
   "outputs": [],
   "source": [
    "# we can't just train the model on whole dataset, it will be meaningless we don't have some data for it's validation.\n",
    "#Though our model will get higher accuray in training but when testin on unkown data we might get a very loss accuracy.\n",
    "# So,the data must be split into training part and testing part \n",
    "X_train, X_test, Y_train, Y_test = train_test_split(X, Y, test_size=0.1, stratify = Y, random_state=1)"
   ]
  },
  {
   "cell_type": "markdown",
   "metadata": {},
   "source": [
    "## 4. Binarisation of input"
   ]
  },
  {
   "cell_type": "code",
   "execution_count": null,
   "metadata": {
    "ExecuteTime": {
     "end_time": "2020-04-14T11:17:59.454189Z",
     "start_time": "2020-04-14T11:17:58.496060Z"
    }
   },
   "outputs": [],
   "source": [
    "# let's plot the data and visualize it\n",
    "plt.plot(X_test.T, '*')\n",
    "plt.xticks(rotation='vertical')\n",
    "plt.show()"
   ]
  },
  {
   "cell_type": "code",
   "execution_count": null,
   "metadata": {
    "ExecuteTime": {
     "end_time": "2020-04-14T11:17:59.753430Z",
     "start_time": "2020-04-14T11:17:59.459137Z"
    }
   },
   "outputs": [],
   "source": [
    "# from the plot it is clear that our data is not binary.but MP neuron model jst takes binary input (0,1) as input.\n",
    "# So we first require to binarise it.\n",
    "# our ouput it already in binary for as seen in table 'class' col.We just need to binarise the inputs\n",
    "X_binarised_train = X_train.apply(pd.cut, bins=2, labels=[1,0])\n",
    "X_binarised_test = X_test.apply(pd.cut, bins=2, labels=[1,0])"
   ]
  },
  {
   "cell_type": "code",
   "execution_count": null,
   "metadata": {
    "ExecuteTime": {
     "end_time": "2020-04-14T11:17:59.771304Z",
     "start_time": "2020-04-14T11:17:59.758338Z"
    }
   },
   "outputs": [],
   "source": [
    "# checking the type of binarised data\n",
    "type(X_binarised_test)"
   ]
  },
  {
   "cell_type": "code",
   "execution_count": null,
   "metadata": {
    "ExecuteTime": {
     "end_time": "2020-04-14T11:17:59.907982Z",
     "start_time": "2020-04-14T11:17:59.777284Z"
    }
   },
   "outputs": [],
   "source": [
    "# the binarised data is in dataframe format\n",
    "# but it should be in the array as we are going to build the model in np.ndarray it become easy for the operations\n",
    "# let's convert it to np.ndarray form\n",
    "X_binarised_test = X_binarised_test.values\n",
    "X_binarised_train = X_binarised_train.values\n",
    "type(X_binarised_test)"
   ]
  },
  {
   "cell_type": "markdown",
   "metadata": {},
   "source": [
    "## 5. MP neuron model"
   ]
  },
  {
   "cell_type": "code",
   "execution_count": null,
   "metadata": {
    "ExecuteTime": {
     "end_time": "2020-04-14T11:17:59.989721Z",
     "start_time": "2020-04-14T11:17:59.915915Z"
    }
   },
   "outputs": [],
   "source": [
    "# this is actuall the Mp neuron mode defined using class in python\n",
    "class MPNeuron:\n",
    "  \n",
    "  def __init__(self):    # initialise the bias\n",
    "    self.b = None\n",
    "    \n",
    "  def model(self, x):    # check if the input is greater than bias or not\n",
    "    return(sum(x) >= self.b)\n",
    "  \n",
    "  def predict(self, X): # predict the ouput based on input\n",
    "    Y = []\n",
    "    for x in X:\n",
    "      result = self.model(x)\n",
    "      Y.append(result)\n",
    "    return np.array(Y)\n",
    "  \n",
    "  def fit(self, X, Y): # train the model and decide the best value of b so the to get maximum accuray and zero error\n",
    "    accuracy = {}\n",
    "    \n",
    "    for b in range(X.shape[1] + 1):\n",
    "      self.b = b\n",
    "      Y_pred = self.predict(X)\n",
    "      accuracy[b] = accuracy_score(Y_pred, Y)\n",
    "      \n",
    "    best_b = max(accuracy, key = accuracy.get)\n",
    "    self.b = best_b\n",
    "    \n",
    "    print('Optimal value of b is', best_b) # print the best b value \n",
    "    print('Highest accuracy is', accuracy[best_b]) # and accuracy for it"
   ]
  },
  {
   "cell_type": "code",
   "execution_count": null,
   "metadata": {
    "ExecuteTime": {
     "end_time": "2020-04-14T11:18:00.288917Z",
     "start_time": "2020-04-14T11:17:59.996699Z"
    }
   },
   "outputs": [],
   "source": [
    "# we define the model to a variable so that we can create n such model from a single class\n",
    "mp_neuron = MPNeuron() # model defined\n",
    "mp_neuron.fit(X_binarised_train, Y_train) # train the model on train data"
   ]
  },
  {
   "cell_type": "code",
   "execution_count": null,
   "metadata": {
    "ExecuteTime": {
     "end_time": "2020-04-14T11:18:00.306871Z",
     "start_time": "2020-04-14T11:18:00.293903Z"
    }
   },
   "outputs": [],
   "source": [
    "# Now the model is trained and very are ready to predict \n",
    "Y_test_pred = mp_neuron.predict(X_binarised_test) # predict the optput for test data and store in Y_pred\n",
    "accuracy_test = accuracy_score(Y_test_pred, Y_test) # calculate the accuracy"
   ]
  },
  {
   "cell_type": "code",
   "execution_count": null,
   "metadata": {
    "ExecuteTime": {
     "end_time": "2020-04-14T11:18:00.408600Z",
     "start_time": "2020-04-14T11:18:00.312853Z"
    }
   },
   "outputs": [],
   "source": [
    "accuracy_test # print the accuracy"
   ]
  }
 ],
 "metadata": {
  "kernelspec": {
   "display_name": "Python 3",
   "language": "python",
   "name": "python3"
  },
  "language_info": {
   "codemirror_mode": {
    "name": "ipython",
    "version": 3
   },
   "file_extension": ".py",
   "mimetype": "text/x-python",
   "name": "python",
   "nbconvert_exporter": "python",
   "pygments_lexer": "ipython3",
   "version": "3.7.3"
  }
 },
 "nbformat": 4,
 "nbformat_minor": 4
}
